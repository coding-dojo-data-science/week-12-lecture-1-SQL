{
 "cells": [
  {
   "cell_type": "markdown",
   "metadata": {
    "id": "r5E8nt0jGE6s"
   },
   "source": [
    "# SQL Exercise\n",
    "\n",
    "<a href=\"https://colab.research.google.com/github/coding-dojo-data-science/week-12-lecture-1-SQL/blob/main/SQL_Exercise_Code-along_and_challenge.ipynb\" target=\"_parent\"><img src=\"https://colab.research.google.com/assets/colab-badge.svg\" alt=\"Open In Colab\"/></a>"
   ]
  },
  {
   "cell_type": "markdown",
   "metadata": {
    "id": "AwyFKJDrs-k3"
   },
   "source": [
    "\n",
    "\n",
    "[SQLAlchemy](https://www.sqlalchemy.org/) is a wrapper for Python that allows us to write SQL queries in Python. We will use this to practice our SQL basics in Python.\n",
    "\n",
    "First, we need to connect to a database. We will just read a table into SQL for this step. We will be creating a [SQLite](https://sqlite.org/index.html) database and loading our [data](https://drive.google.com/file/d/18MgOmIHHafoubgp2d_7GM6GWroxb0vPe/view?usp=sharing) into that database."
   ]
  },
  {
   "cell_type": "code",
   "execution_count": null,
   "metadata": {
    "ExecuteTime": {
     "end_time": "2023-02-07T21:42:15.432665Z",
     "start_time": "2023-02-07T21:42:14.873187Z"
    },
    "id": "v9rTvcEDApP2"
   },
   "outputs": [],
   "source": [
    "# imports\n",
    "import pandas as pd\n",
    "from sqlalchemy import create_engine\n"
   ]
  },
  {
   "cell_type": "code",
   "execution_count": null,
   "metadata": {
    "ExecuteTime": {
     "end_time": "2023-02-07T21:42:18.380614Z",
     "start_time": "2023-02-07T21:42:15.434627Z"
    },
    "id": "kutvGwWcBEX5"
   },
   "outputs": [],
   "source": [
    "# Read the data in as a Pandas Dataframe\n",
    "school = pd.read_csv('https://docs.google.com/spreadsheets/d/e/2PACX-1vRtLDEwVA8XXd7-XHjvaU7zkMhlRlFjXExCXJZKdUpa6xrYpyaxUifltjgaN5wTFRA_bg_UXyFOB1p7/pub?gid=1976095986&single=true&output=csv')\n",
    "# load table 2'\n",
    "facility = pd.read_csv('https://docs.google.com/spreadsheets/d/e/2PACX-1vR5UNxWcE8ctwA8OFn2v0RmWfoIEUK_9dUqmXQCV3lbJwZ7JLjdDz6P3YbcFbCMHUxswF07RawZzX0V/pub?gid=601105917&single=true&output=csv')"
   ]
  },
  {
   "cell_type": "code",
   "execution_count": null,
   "metadata": {
    "ExecuteTime": {
     "end_time": "2023-02-07T21:42:18.403264Z",
     "start_time": "2023-02-07T21:42:18.380614Z"
    },
    "colab": {
     "base_uri": "https://localhost:8080/"
    },
    "executionInfo": {
     "elapsed": 4,
     "status": "ok",
     "timestamp": 1664927895415,
     "user": {
      "displayName": "Josh Johnson",
      "userId": "08606005069848925988"
     },
     "user_tz": 420
    },
    "id": "g8zQAMpWx8DW",
    "outputId": "1aab7814-632a-4059-f580-18112267a7d0"
   },
   "outputs": [],
   "source": [
    "school.info()"
   ]
  },
  {
   "cell_type": "code",
   "execution_count": null,
   "metadata": {
    "ExecuteTime": {
     "end_time": "2023-02-07T21:42:18.418878Z",
     "start_time": "2023-02-07T21:42:18.403966Z"
    }
   },
   "outputs": [],
   "source": [
    "facility.info()"
   ]
  },
  {
   "cell_type": "markdown",
   "metadata": {
    "id": "QYu2zOj8vlv_"
   },
   "source": [
    "### Create a SQLite Database"
   ]
  },
  {
   "cell_type": "code",
   "execution_count": null,
   "metadata": {
    "ExecuteTime": {
     "end_time": "2023-02-07T21:42:18.436171Z",
     "start_time": "2023-02-07T21:42:18.419876Z"
    },
    "id": "c0PCa_xzBLZR"
   },
   "outputs": [],
   "source": [
    "# create sqlite engine and create empty database name school\n",
    "#engine = create_engine('sqlite:///school.db', echo=True)\n",
    "engine = create_engine('sqlite:///school.db', echo=True)\n",
    "# create connection to engine\n",
    "conn = engine.connect()"
   ]
  },
  {
   "cell_type": "code",
   "execution_count": null,
   "metadata": {
    "ExecuteTime": {
     "end_time": "2023-02-07T21:42:18.452224Z",
     "start_time": "2023-02-07T21:42:18.436171Z"
    },
    "colab": {
     "base_uri": "https://localhost:8080/"
    },
    "executionInfo": {
     "elapsed": 1027,
     "status": "ok",
     "timestamp": 1664927896665,
     "user": {
      "displayName": "Josh Johnson",
      "userId": "08606005069848925988"
     },
     "user_tz": 420
    },
    "id": "JqOzqOa9BOVB",
    "outputId": "7ac2189a-82d9-4e27-ce34-41a4b08dab95"
   },
   "outputs": [],
   "source": [
    "# add the school dataframe as a table in sqlite\n",
    "sqlite_table1 = 'schools'\n",
    "\n",
    "try:\n",
    "  school.to_sql('schools', conn, if_exists='fail')\n",
    "except:\n",
    "  pass\n",
    "\n",
    "# add the facility dataframe as a table in sqlite\n",
    "\n",
    "sqlite_table2 = 'facilities'\n",
    "try:\n",
    "  facility.to_sql(sqlite_table2, conn, if_exists='fail')\n",
    "except:\n",
    "  pass\n"
   ]
  },
  {
   "cell_type": "markdown",
   "metadata": {
    "id": "4oVXqFLzzGUm"
   },
   "source": [
    "- Let's examine the first 5 rows of the schools table"
   ]
  },
  {
   "cell_type": "code",
   "execution_count": null,
   "metadata": {
    "ExecuteTime": {
     "end_time": "2023-02-07T21:42:18.501793Z",
     "start_time": "2023-02-07T21:42:18.453903Z"
    },
    "colab": {
     "base_uri": "https://localhost:8080/",
     "height": 1000
    },
    "executionInfo": {
     "elapsed": 189,
     "status": "ok",
     "timestamp": 1664927896852,
     "user": {
      "displayName": "Josh Johnson",
      "userId": "08606005069848925988"
     },
     "user_tz": 420
    },
    "id": "Gholo-DezF2g",
    "outputId": "b60aa8e4-34f0-43ee-d7b7-09e87b74a0bb"
   },
   "outputs": [],
   "source": [
    "# Using SELECT view schools data\n",
    "query = \"\"\"\n",
    "\n",
    "\"\"\"\n",
    "# Read the sql query into pandas to view the results\n",
    "df = pd.read_sql_query(query, conn)\n",
    "df"
   ]
  },
  {
   "cell_type": "markdown",
   "metadata": {
    "id": "k5rvo0dX9iHZ"
   },
   "source": [
    "Select only the DistrictName and PhoneNo from the schools table"
   ]
  },
  {
   "cell_type": "code",
   "execution_count": null,
   "metadata": {
    "ExecuteTime": {
     "end_time": "2023-02-07T21:42:18.562407Z",
     "start_time": "2023-02-07T21:42:18.502764Z"
    },
    "colab": {
     "base_uri": "https://localhost:8080/",
     "height": 606
    },
    "executionInfo": {
     "elapsed": 203,
     "status": "ok",
     "timestamp": 1664927897051,
     "user": {
      "displayName": "Josh Johnson",
      "userId": "08606005069848925988"
     },
     "user_tz": 420
    },
    "id": "TcEi5uUBzcc2",
    "outputId": "5538a968-f175-4101-b34d-8936803ce295"
   },
   "outputs": [],
   "source": [
    "# Using SELECT view DistrictName and PhoneNo from school\n",
    "query = \"\"\"\n",
    "\n",
    "\"\"\"\n",
    "# Read the sql query into pandas to view the results\n",
    "df = pd.read_sql_query(query, conn)\n",
    "df"
   ]
  },
  {
   "cell_type": "markdown",
   "metadata": {
    "id": "EemnRaoRBW5x"
   },
   "source": [
    "What is the average BACDistance (in Km)? Rename the output column to \"avg_bac_distance.\""
   ]
  },
  {
   "cell_type": "code",
   "execution_count": null,
   "metadata": {
    "ExecuteTime": {
     "end_time": "2023-02-07T21:42:18.586630Z",
     "start_time": "2023-02-07T21:42:18.563322Z"
    },
    "colab": {
     "base_uri": "https://localhost:8080/",
     "height": 263
    },
    "executionInfo": {
     "elapsed": 172,
     "status": "ok",
     "timestamp": 1664927897218,
     "user": {
      "displayName": "Josh Johnson",
      "userId": "08606005069848925988"
     },
     "user_tz": 420
    },
    "id": "g8Uule2mBRPl",
    "outputId": "109b075b-8cba-4694-f0aa-dfb437a76fce"
   },
   "outputs": [],
   "source": [
    "# What is the average BACDistance (in Km)? Rename the output column to \"avg_bac_distance.\"\n",
    "query = \"\"\"\n",
    "\n",
    "\"\"\"\n",
    "# Read the sql query into pandas to view the results\n",
    "df = pd.read_sql_query(query, conn)\n",
    "df"
   ]
  },
  {
   "cell_type": "markdown",
   "metadata": {
    "id": "0676eUq_ByOR"
   },
   "source": [
    "What is the average BACDistance (in Km) by School Level? Sort the results from highest average to lowest average."
   ]
  },
  {
   "cell_type": "code",
   "execution_count": null,
   "metadata": {
    "ExecuteTime": {
     "end_time": "2023-02-07T21:42:18.602175Z",
     "start_time": "2023-02-07T21:42:18.586939Z"
    },
    "colab": {
     "base_uri": "https://localhost:8080/",
     "height": 462
    },
    "executionInfo": {
     "elapsed": 10,
     "status": "ok",
     "timestamp": 1664927897218,
     "user": {
      "displayName": "Josh Johnson",
      "userId": "08606005069848925988"
     },
     "user_tz": 420
    },
    "id": "z_hz06fQB6Dd",
    "outputId": "a945f381-4a1e-427f-a85a-cfe97ac7e29a"
   },
   "outputs": [],
   "source": [
    "# What is the average BACDistance (in Km) by School Level? Sort the results from highest average to lowest average.\n",
    "query = \"\"\"\n",
    "\n",
    "\"\"\"\n",
    "# Read the sql query into pandas to view the results\n",
    "df = pd.read_sql_query(query, conn)\n",
    "df.head()"
   ]
  },
  {
   "cell_type": "markdown",
   "metadata": {
    "id": "ziwVWIhmCTaR"
   },
   "source": [
    "Repeat the previous query, but only display results where the average distance is at least 10 km."
   ]
  },
  {
   "cell_type": "code",
   "execution_count": null,
   "metadata": {
    "ExecuteTime": {
     "end_time": "2023-02-07T21:42:18.621691Z",
     "start_time": "2023-02-07T21:42:18.603174Z"
    },
    "colab": {
     "base_uri": "https://localhost:8080/",
     "height": 467
    },
    "executionInfo": {
     "elapsed": 10,
     "status": "ok",
     "timestamp": 1664927897219,
     "user": {
      "displayName": "Josh Johnson",
      "userId": "08606005069848925988"
     },
     "user_tz": 420
    },
    "id": "Hqjr-edGCZhr",
    "outputId": "df5b43c1-b189-4607-9ccb-fc37bfeb6918"
   },
   "outputs": [],
   "source": [
    "# Repeat the previous query, but only display results where the average distance is at least 10 km.\n",
    "query = \"\"\"\n",
    "\n",
    "\"\"\"\n",
    "# Read the sql query into pandas to view the results\n",
    "df = pd.read_sql_query(query, conn)\n",
    "df"
   ]
  },
  {
   "cell_type": "markdown",
   "metadata": {
    "id": "UkQ1yVUTDeWq"
   },
   "source": [
    "Join the two tables together (school_details and school_facility_details). Start by displaying all of the columns, but limit the resulting rows to just 2."
   ]
  },
  {
   "cell_type": "code",
   "execution_count": null,
   "metadata": {
    "ExecuteTime": {
     "end_time": "2023-02-07T21:42:18.651329Z",
     "start_time": "2023-02-07T21:42:18.623672Z"
    },
    "colab": {
     "base_uri": "https://localhost:8080/",
     "height": 671
    },
    "executionInfo": {
     "elapsed": 177,
     "status": "ok",
     "timestamp": 1664927897389,
     "user": {
      "displayName": "Josh Johnson",
      "userId": "08606005069848925988"
     },
     "user_tz": 420
    },
    "id": "Xz5flnPzDn0w",
    "outputId": "539aa1aa-b477-4b92-db79-ee7acad2e3d5"
   },
   "outputs": [],
   "source": [
    "# Join the two tables together (school_details and school_facility_details). \n",
    "# Start by displaying all of the columns, but limit the resulting rows to just 2.\n",
    "query = \"\"\"\n",
    "\n",
    "\"\"\"\n",
    "# Read the sql query into pandas to view the results\n",
    "df = pd.read_sql_query(query, conn)\n",
    "df"
   ]
  },
  {
   "cell_type": "markdown",
   "metadata": {
    "id": "gd-UyvdTEu13"
   },
   "source": [
    "Now, select just the schools where the SchoolLevel is \"PS\" that do not have libraries."
   ]
  },
  {
   "cell_type": "code",
   "execution_count": null,
   "metadata": {
    "ExecuteTime": {
     "end_time": "2023-02-07T21:42:18.685646Z",
     "start_time": "2023-02-07T21:42:18.652295Z"
    },
    "colab": {
     "base_uri": "https://localhost:8080/",
     "height": 989
    },
    "executionInfo": {
     "elapsed": 180,
     "status": "ok",
     "timestamp": 1664927897566,
     "user": {
      "displayName": "Josh Johnson",
      "userId": "08606005069848925988"
     },
     "user_tz": 420
    },
    "id": "XomzXHigEvvx",
    "outputId": "1f6c6804-7534-4ba8-9ba4-d07307a20457"
   },
   "outputs": [],
   "source": [
    "# Now, select just the schools where the SchoolLevel is \"PS\" that do not have libraries.\n",
    "query = \"\"\"\n",
    "\n",
    "\"\"\"\n",
    "# Read the sql query into pandas to view the results\n",
    "df = pd.read_sql_query(query, conn)\n",
    "df.head()"
   ]
  },
  {
   "cell_type": "markdown",
   "metadata": {
    "id": "Ah1dsB-DhqV1"
   },
   "source": [
    "# 🥷🏽 Breakout Challenge! 🥷🏽"
   ]
  },
  {
   "cell_type": "markdown",
   "metadata": {
    "id": "PfDTbnH2FqTV"
   },
   "source": [
    "Try these SQL challenges!"
   ]
  },
  {
   "cell_type": "markdown",
   "metadata": {},
   "source": [
    "## 1. Get the EstablishmentName, SchoolLevel, and Website columns from the school table"
   ]
  },
  {
   "cell_type": "code",
   "execution_count": null,
   "metadata": {
    "ExecuteTime": {
     "end_time": "2023-02-07T21:42:18.706119Z",
     "start_time": "2023-02-07T21:42:18.686614Z"
    }
   },
   "outputs": [],
   "source": [
    "query = \"\"\"\n",
    "\n",
    "\"\"\"\n",
    "# Read the sql query into pandas to view the results\n",
    "df = pd.read_sql_query(query, conn)\n",
    "df.head()"
   ]
  },
  {
   "cell_type": "markdown",
   "metadata": {},
   "source": [
    "## 2. Display the EstablishmentName and DistrictHQDistance (in Km) for schools where the DistrictHQDistance (in Km) is more than 100 Km. Don't forget to use backticks! (`)"
   ]
  },
  {
   "cell_type": "code",
   "execution_count": null,
   "metadata": {
    "ExecuteTime": {
     "end_time": "2023-02-07T21:42:18.719657Z",
     "start_time": "2023-02-07T21:42:18.706119Z"
    }
   },
   "outputs": [],
   "source": [
    "query = \"\"\"\n",
    "\n",
    "\"\"\"\n",
    "# Read the sql query into pandas to view the results\n",
    "df = pd.read_sql_query(query, conn)\n",
    "df.head()"
   ]
  },
  {
   "cell_type": "markdown",
   "metadata": {},
   "source": [
    "## 3. (**CHALLENGE!**) Display the EstablishmentName, SchoolLevel, and AvailableBooksCount       for schools where the name of the school contains the words \"JUNIOR HIGH.\"\n",
    "\n",
    "### **Note** You will need to join the tables to complete this!"
   ]
  },
  {
   "cell_type": "code",
   "execution_count": null,
   "metadata": {
    "ExecuteTime": {
     "end_time": "2023-02-07T21:42:18.735627Z",
     "start_time": "2023-02-07T21:42:18.719657Z"
    }
   },
   "outputs": [],
   "source": [
    "query = \"\"\"\n",
    "\n",
    "\"\"\"\n",
    "# Read the sql query into pandas to view the results\n",
    "df = pd.read_sql_query(query, conn)\n",
    "df.head()"
   ]
  },
  {
   "cell_type": "code",
   "execution_count": null,
   "metadata": {},
   "outputs": [],
   "source": []
  }
 ],
 "metadata": {
  "colab": {
   "provenance": []
  },
  "kernelspec": {
   "display_name": "Python 3 (ipykernel)",
   "language": "python",
   "name": "python3"
  },
  "language_info": {
   "codemirror_mode": {
    "name": "ipython",
    "version": 3
   },
   "file_extension": ".py",
   "mimetype": "text/x-python",
   "name": "python",
   "nbconvert_exporter": "python",
   "pygments_lexer": "ipython3",
   "version": "3.9.15"
  },
  "toc": {
   "base_numbering": 1,
   "nav_menu": {},
   "number_sections": false,
   "sideBar": true,
   "skip_h1_title": false,
   "title_cell": "Table of Contents",
   "title_sidebar": "Contents",
   "toc_cell": false,
   "toc_position": {},
   "toc_section_display": true,
   "toc_window_display": false
  }
 },
 "nbformat": 4,
 "nbformat_minor": 1
}
