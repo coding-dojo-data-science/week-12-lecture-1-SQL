{
 "cells": [
  {
   "cell_type": "markdown",
   "metadata": {
    "id": "r5E8nt0jGE6s"
   },
   "source": [
    "# SQL Exercise"
   ]
  },
  {
   "cell_type": "markdown",
   "metadata": {
    "id": "AwyFKJDrs-k3"
   },
   "source": [
    "\n",
    "\n",
    "[SQLAlchemy](https://www.sqlalchemy.org/) is a wrapper for Python that allows us to write SQL queries in Python. We will use this to practice our SQL basics in Python.\n",
    "\n",
    "First, we need to connect to a database. We will just read a table into SQL for this step. We will be creating a [SQLite](https://sqlite.org/index.html) database and loading our [data](https://drive.google.com/file/d/18MgOmIHHafoubgp2d_7GM6GWroxb0vPe/view?usp=sharing) into that database."
   ]
  },
  {
   "cell_type": "code",
   "execution_count": 1,
   "metadata": {
    "ExecuteTime": {
     "end_time": "2023-02-07T21:42:15.432665Z",
     "start_time": "2023-02-07T21:42:14.873187Z"
    },
    "id": "v9rTvcEDApP2"
   },
   "outputs": [],
   "source": [
    "# imports\n",
    "import pandas as pd\n",
    "from sqlalchemy import create_engine\n"
   ]
  },
  {
   "cell_type": "code",
   "execution_count": 2,
   "metadata": {
    "ExecuteTime": {
     "end_time": "2023-02-07T21:42:18.380614Z",
     "start_time": "2023-02-07T21:42:15.434627Z"
    },
    "id": "kutvGwWcBEX5"
   },
   "outputs": [],
   "source": [
    "# Read the data in as a Pandas Dataframe\n",
    "school = pd.read_csv('https://docs.google.com/spreadsheets/d/e/2PACX-1vRtLDEwVA8XXd7-XHjvaU7zkMhlRlFjXExCXJZKdUpa6xrYpyaxUifltjgaN5wTFRA_bg_UXyFOB1p7/pub?gid=1976095986&single=true&output=csv')\n",
    "# load table 2'\n",
    "facility = pd.read_csv('https://docs.google.com/spreadsheets/d/e/2PACX-1vR5UNxWcE8ctwA8OFn2v0RmWfoIEUK_9dUqmXQCV3lbJwZ7JLjdDz6P3YbcFbCMHUxswF07RawZzX0V/pub?gid=601105917&single=true&output=csv')"
   ]
  },
  {
   "cell_type": "code",
   "execution_count": 3,
   "metadata": {
    "ExecuteTime": {
     "end_time": "2023-02-07T21:42:18.403264Z",
     "start_time": "2023-02-07T21:42:18.380614Z"
    },
    "colab": {
     "base_uri": "https://localhost:8080/"
    },
    "executionInfo": {
     "elapsed": 4,
     "status": "ok",
     "timestamp": 1664927895415,
     "user": {
      "displayName": "Josh Johnson",
      "userId": "08606005069848925988"
     },
     "user_tz": 420
    },
    "id": "g8zQAMpWx8DW",
    "outputId": "1aab7814-632a-4059-f580-18112267a7d0"
   },
   "outputs": [
    {
     "name": "stdout",
     "output_type": "stream",
     "text": [
      "<class 'pandas.core.frame.DataFrame'>\n",
      "RangeIndex: 1249 entries, 0 to 1248\n",
      "Data columns (total 30 columns):\n",
      " #   Column                      Non-Null Count  Dtype  \n",
      "---  ------                      --------------  -----  \n",
      " 0   DistrictName                1249 non-null   object \n",
      " 1   EstablishmentCode           1249 non-null   object \n",
      " 2   EstablishmentName           1249 non-null   object \n",
      " 3   BRCName                     1249 non-null   object \n",
      " 4   CRCName                     1249 non-null   object \n",
      " 5   SchoolLevel                 1246 non-null   object \n",
      " 6   ManagementName              1246 non-null   object \n",
      " 7   LocalityHabitation          1221 non-null   object \n",
      " 8   SubdivisionName             1241 non-null   object \n",
      " 9   ConstituencyName            1249 non-null   object \n",
      " 10  RevenueBlockName            1249 non-null   object \n",
      " 11  CivicBodyName               1249 non-null   object \n",
      " 12  WardName                    1249 non-null   object \n",
      " 13  PostOfficeName              1249 non-null   object \n",
      " 14  PhoneNo                     794 non-null    object \n",
      " 15  FaxNo                       20 non-null     object \n",
      " 16  EmailID                     182 non-null    object \n",
      " 17  Website                     24 non-null     object \n",
      " 18  LocatedInRuralOrUrban       1249 non-null   object \n",
      " 19  DiseCode                    439 non-null    object \n",
      " 20  EstablishedDate             1230 non-null   object \n",
      " 21  DistrictHQDistance (in Km)  1246 non-null   float64\n",
      " 22  CRCDistance (in Km)         1246 non-null   float64\n",
      " 23  BACDistance (in Km)         1246 non-null   float64\n",
      " 24  IsRecognized                1246 non-null   object \n",
      " 25  RecognizedBy                1004 non-null   object \n",
      " 26  ContactPersonName           0 non-null      float64\n",
      " 27  LowestClass                 1246 non-null   object \n",
      " 28  HighestClass                1246 non-null   object \n",
      " 29  BoardName                   784 non-null    object \n",
      "dtypes: float64(4), object(26)\n",
      "memory usage: 292.9+ KB\n"
     ]
    }
   ],
   "source": [
    "school.info()"
   ]
  },
  {
   "cell_type": "code",
   "execution_count": 4,
   "metadata": {
    "ExecuteTime": {
     "end_time": "2023-02-07T21:42:18.418878Z",
     "start_time": "2023-02-07T21:42:18.403966Z"
    }
   },
   "outputs": [
    {
     "name": "stdout",
     "output_type": "stream",
     "text": [
      "<class 'pandas.core.frame.DataFrame'>\n",
      "RangeIndex: 1256 entries, 0 to 1255\n",
      "Data columns (total 11 columns):\n",
      " #   Column                      Non-Null Count  Dtype \n",
      "---  ------                      --------------  ----- \n",
      " 0   EstablishmentCode           1256 non-null   object\n",
      " 1   EstablishmentName           1256 non-null   object\n",
      " 2   IsLibraryAvailable          1256 non-null   object\n",
      " 3   AvailableBooksCount         1256 non-null   int64 \n",
      " 4   IsFireExtgAvailable         1256 non-null   object\n",
      " 5   ExtinguisherCount           1256 non-null   int64 \n",
      " 6   HOIRoomAvailable            1256 non-null   object\n",
      " 7   IsStaffRoomAvailable        1256 non-null   object\n",
      " 8   NoofStaffRoom               1256 non-null   int64 \n",
      " 9   IsLockerForStaffAvailable   1256 non-null   object\n",
      " 10  IsSportsStoreRoomAvailable  1256 non-null   object\n",
      "dtypes: int64(3), object(8)\n",
      "memory usage: 108.1+ KB\n"
     ]
    }
   ],
   "source": [
    "facility.info()"
   ]
  },
  {
   "cell_type": "markdown",
   "metadata": {
    "id": "QYu2zOj8vlv_"
   },
   "source": [
    "### Create a SQLite Database"
   ]
  },
  {
   "cell_type": "code",
   "execution_count": 5,
   "metadata": {
    "ExecuteTime": {
     "end_time": "2023-02-07T21:42:18.436171Z",
     "start_time": "2023-02-07T21:42:18.419876Z"
    },
    "id": "c0PCa_xzBLZR"
   },
   "outputs": [],
   "source": [
    "# create sqlite engine and create empty database name school\n",
    "#engine = create_engine('sqlite:///school.db', echo=True)\n",
    "engine = create_engine('sqlite:///school.db', echo=True)\n",
    "# create connection to engine\n",
    "conn = engine.connect()"
   ]
  },
  {
   "cell_type": "code",
   "execution_count": 6,
   "metadata": {
    "ExecuteTime": {
     "end_time": "2023-02-07T21:42:18.452224Z",
     "start_time": "2023-02-07T21:42:18.436171Z"
    },
    "colab": {
     "base_uri": "https://localhost:8080/"
    },
    "executionInfo": {
     "elapsed": 1027,
     "status": "ok",
     "timestamp": 1664927896665,
     "user": {
      "displayName": "Josh Johnson",
      "userId": "08606005069848925988"
     },
     "user_tz": 420
    },
    "id": "JqOzqOa9BOVB",
    "outputId": "7ac2189a-82d9-4e27-ce34-41a4b08dab95"
   },
   "outputs": [
    {
     "name": "stdout",
     "output_type": "stream",
     "text": [
      "2023-02-07 13:42:18,436 INFO sqlalchemy.engine.Engine PRAGMA main.table_info(\"schools\")\n",
      "2023-02-07 13:42:18,436 INFO sqlalchemy.engine.Engine [raw sql] ()\n",
      "2023-02-07 13:42:18,436 INFO sqlalchemy.engine.Engine PRAGMA main.table_info(\"facilities\")\n",
      "2023-02-07 13:42:18,449 INFO sqlalchemy.engine.Engine [raw sql] ()\n"
     ]
    }
   ],
   "source": [
    "# add the school dataframe as a table in sqlite\n",
    "sqlite_table1 = 'schools'\n",
    "\n",
    "try:\n",
    "  school.to_sql('schools', conn, if_exists='fail')\n",
    "except:\n",
    "  pass\n",
    "\n",
    "# add the facility dataframe as a table in sqlite\n",
    "\n",
    "sqlite_table2 = 'facilities'\n",
    "try:\n",
    "  facility.to_sql(sqlite_table2, conn, if_exists='fail')\n",
    "except:\n",
    "  pass\n"
   ]
  },
  {
   "cell_type": "markdown",
   "metadata": {
    "id": "4oVXqFLzzGUm"
   },
   "source": [
    "- Let's examine the first 5 rows of the schools table"
   ]
  },
  {
   "cell_type": "code",
   "execution_count": 7,
   "metadata": {
    "ExecuteTime": {
     "end_time": "2023-02-07T21:42:18.501793Z",
     "start_time": "2023-02-07T21:42:18.453903Z"
    },
    "colab": {
     "base_uri": "https://localhost:8080/",
     "height": 1000
    },
    "executionInfo": {
     "elapsed": 189,
     "status": "ok",
     "timestamp": 1664927896852,
     "user": {
      "displayName": "Josh Johnson",
      "userId": "08606005069848925988"
     },
     "user_tz": 420
    },
    "id": "Gholo-DezF2g",
    "outputId": "b60aa8e4-34f0-43ee-d7b7-09e87b74a0bb"
   },
   "outputs": [
    {
     "name": "stdout",
     "output_type": "stream",
     "text": [
      "2023-02-07 13:42:18,453 INFO sqlalchemy.engine.Engine \n",
      "SELECT *\n",
      "FROM schools\n",
      "\n",
      "2023-02-07 13:42:18,453 INFO sqlalchemy.engine.Engine [raw sql] ()\n"
     ]
    },
    {
     "data": {
      "text/html": [
       "<div>\n",
       "<style scoped>\n",
       "    .dataframe tbody tr th:only-of-type {\n",
       "        vertical-align: middle;\n",
       "    }\n",
       "\n",
       "    .dataframe tbody tr th {\n",
       "        vertical-align: top;\n",
       "    }\n",
       "\n",
       "    .dataframe thead th {\n",
       "        text-align: right;\n",
       "    }\n",
       "</style>\n",
       "<table border=\"1\" class=\"dataframe\">\n",
       "  <thead>\n",
       "    <tr style=\"text-align: right;\">\n",
       "      <th></th>\n",
       "      <th>index</th>\n",
       "      <th>DistrictName</th>\n",
       "      <th>EstablishmentCode</th>\n",
       "      <th>EstablishmentName</th>\n",
       "      <th>BRCName</th>\n",
       "      <th>CRCName</th>\n",
       "      <th>SchoolLevel</th>\n",
       "      <th>ManagementName</th>\n",
       "      <th>LocalityHabitation</th>\n",
       "      <th>SubdivisionName</th>\n",
       "      <th>...</th>\n",
       "      <th>EstablishedDate</th>\n",
       "      <th>DistrictHQDistance (in Km)</th>\n",
       "      <th>CRCDistance (in Km)</th>\n",
       "      <th>BACDistance (in Km)</th>\n",
       "      <th>IsRecognized</th>\n",
       "      <th>RecognizedBy</th>\n",
       "      <th>ContactPersonName</th>\n",
       "      <th>LowestClass</th>\n",
       "      <th>HighestClass</th>\n",
       "      <th>BoardName</th>\n",
       "    </tr>\n",
       "  </thead>\n",
       "  <tbody>\n",
       "    <tr>\n",
       "      <th>0</th>\n",
       "      <td>0</td>\n",
       "      <td>East</td>\n",
       "      <td>S0169</td>\n",
       "      <td>BUDANG GOVERNMENT PRIMARY SCHOOL (E)</td>\n",
       "      <td>Duga Brc</td>\n",
       "      <td>Central Pendam Government Senior Secondary School</td>\n",
       "      <td>PS</td>\n",
       "      <td>State Govt.</td>\n",
       "      <td>BUDANG</td>\n",
       "      <td>Gangtok</td>\n",
       "      <td>...</td>\n",
       "      <td>28126</td>\n",
       "      <td>58.0</td>\n",
       "      <td>8.0</td>\n",
       "      <td>16.0</td>\n",
       "      <td>Recognized</td>\n",
       "      <td>HRDD</td>\n",
       "      <td>None</td>\n",
       "      <td>Class 1</td>\n",
       "      <td>Class 5</td>\n",
       "      <td>None</td>\n",
       "    </tr>\n",
       "    <tr>\n",
       "      <th>1</th>\n",
       "      <td>1</td>\n",
       "      <td>East</td>\n",
       "      <td>S0099</td>\n",
       "      <td>CENTRAL PENDAM GOVERNMENT SENIOR SECONDARY SCHOOL</td>\n",
       "      <td>Duga Brc</td>\n",
       "      <td>Central Pendam Government Senior Secondary School</td>\n",
       "      <td>SSS</td>\n",
       "      <td>State Govt.</td>\n",
       "      <td>CENTRAL PENDAM</td>\n",
       "      <td>Gangtok</td>\n",
       "      <td>...</td>\n",
       "      <td>15342</td>\n",
       "      <td>50.0</td>\n",
       "      <td>0.0</td>\n",
       "      <td>6.0</td>\n",
       "      <td>Recognized</td>\n",
       "      <td>HRDD</td>\n",
       "      <td>None</td>\n",
       "      <td>Class 1</td>\n",
       "      <td>Class 12</td>\n",
       "      <td>C.B.S.E.</td>\n",
       "    </tr>\n",
       "    <tr>\n",
       "      <th>2</th>\n",
       "      <td>2</td>\n",
       "      <td>East</td>\n",
       "      <td>S0848</td>\n",
       "      <td>CENTRAL POINT ACADEMY, CENTRAL PENDAM</td>\n",
       "      <td>Duga Brc</td>\n",
       "      <td>Central Pendam Government Senior Secondary School</td>\n",
       "      <td>SS</td>\n",
       "      <td>Private (Unaided)</td>\n",
       "      <td>UPPER BHURUNG CENTRAL PENDAM</td>\n",
       "      <td>Gangtok</td>\n",
       "      <td>...</td>\n",
       "      <td>37257.38681</td>\n",
       "      <td>49.0</td>\n",
       "      <td>1.5</td>\n",
       "      <td>6.0</td>\n",
       "      <td>Recognized</td>\n",
       "      <td>HRDD, GOVT. OF SIKKIM</td>\n",
       "      <td>None</td>\n",
       "      <td>Class 1</td>\n",
       "      <td>Class 10</td>\n",
       "      <td>C.B.S.E.</td>\n",
       "    </tr>\n",
       "    <tr>\n",
       "      <th>3</th>\n",
       "      <td>3</td>\n",
       "      <td>East</td>\n",
       "      <td>S0190</td>\n",
       "      <td>CHEURIBOTEY GOVERNMENT JUNIOR HIGH SCHOOL (E)</td>\n",
       "      <td>Duga Brc</td>\n",
       "      <td>Central Pendam Government Senior Secondary School</td>\n",
       "      <td>JHS</td>\n",
       "      <td>State Govt.</td>\n",
       "      <td>CHEURIBOTEY</td>\n",
       "      <td>Gangtok</td>\n",
       "      <td>...</td>\n",
       "      <td>28856</td>\n",
       "      <td>60.0</td>\n",
       "      <td>6.0</td>\n",
       "      <td>6.0</td>\n",
       "      <td>Recognized</td>\n",
       "      <td>State Govt.</td>\n",
       "      <td>None</td>\n",
       "      <td>Class 1</td>\n",
       "      <td>Class 8</td>\n",
       "      <td>None</td>\n",
       "    </tr>\n",
       "    <tr>\n",
       "      <th>4</th>\n",
       "      <td>4</td>\n",
       "      <td>East</td>\n",
       "      <td>S0111</td>\n",
       "      <td>DUGA GOVERNMENT SECONDARY SCHOOL</td>\n",
       "      <td>Duga Brc</td>\n",
       "      <td>Central Pendam Government Senior Secondary School</td>\n",
       "      <td>SS</td>\n",
       "      <td>State Govt.</td>\n",
       "      <td>DUGA</td>\n",
       "      <td>Gangtok</td>\n",
       "      <td>...</td>\n",
       "      <td>1828</td>\n",
       "      <td>52.0</td>\n",
       "      <td>0.0</td>\n",
       "      <td>0.5</td>\n",
       "      <td>Recognized</td>\n",
       "      <td>c.b.s.e.</td>\n",
       "      <td>None</td>\n",
       "      <td>Class 1</td>\n",
       "      <td>Class 10</td>\n",
       "      <td>C.B.S.E.</td>\n",
       "    </tr>\n",
       "    <tr>\n",
       "      <th>...</th>\n",
       "      <td>...</td>\n",
       "      <td>...</td>\n",
       "      <td>...</td>\n",
       "      <td>...</td>\n",
       "      <td>...</td>\n",
       "      <td>...</td>\n",
       "      <td>...</td>\n",
       "      <td>...</td>\n",
       "      <td>...</td>\n",
       "      <td>...</td>\n",
       "      <td>...</td>\n",
       "      <td>...</td>\n",
       "      <td>...</td>\n",
       "      <td>...</td>\n",
       "      <td>...</td>\n",
       "      <td>...</td>\n",
       "      <td>...</td>\n",
       "      <td>...</td>\n",
       "      <td>...</td>\n",
       "      <td>...</td>\n",
       "      <td>...</td>\n",
       "    </tr>\n",
       "    <tr>\n",
       "      <th>1244</th>\n",
       "      <td>1244</td>\n",
       "      <td>West</td>\n",
       "      <td>S0336</td>\n",
       "      <td>MANGSABONG GOVERNMENT PRIMARY SCHOOL</td>\n",
       "      <td>Yuksom Brc</td>\n",
       "      <td>Yuksom Government Secondary School</td>\n",
       "      <td>PS</td>\n",
       "      <td>State Govt.</td>\n",
       "      <td>MANGSABONG BUSTY</td>\n",
       "      <td>Gyalshing</td>\n",
       "      <td>...</td>\n",
       "      <td>29221</td>\n",
       "      <td>45.0</td>\n",
       "      <td>4.0</td>\n",
       "      <td>5.0</td>\n",
       "      <td>Recognized</td>\n",
       "      <td>STATE GOVERNMENT</td>\n",
       "      <td>None</td>\n",
       "      <td>Class 1</td>\n",
       "      <td>Class 5</td>\n",
       "      <td>None</td>\n",
       "    </tr>\n",
       "    <tr>\n",
       "      <th>1245</th>\n",
       "      <td>1245</td>\n",
       "      <td>West</td>\n",
       "      <td>S0591</td>\n",
       "      <td>MANGTABONG GOVERNMENT PRIMARY SCHOOL(SSA)</td>\n",
       "      <td>Yuksom Brc</td>\n",
       "      <td>Yuksom Government Secondary School</td>\n",
       "      <td>PS</td>\n",
       "      <td>State Govt.</td>\n",
       "      <td>MANGTABONG(YUKSAM)</td>\n",
       "      <td>Gyalshing</td>\n",
       "      <td>...</td>\n",
       "      <td>38508</td>\n",
       "      <td>52.0</td>\n",
       "      <td>2.0</td>\n",
       "      <td>5.0</td>\n",
       "      <td>Recognized</td>\n",
       "      <td>STATE GOVERNMENT</td>\n",
       "      <td>None</td>\n",
       "      <td>Class 1</td>\n",
       "      <td>Class 5</td>\n",
       "      <td>C.B.S.E.</td>\n",
       "    </tr>\n",
       "    <tr>\n",
       "      <th>1246</th>\n",
       "      <td>1246</td>\n",
       "      <td>West</td>\n",
       "      <td>S1045</td>\n",
       "      <td>NEW HORIZON ACADEMY, LASSO(TASHIDING)</td>\n",
       "      <td>Yuksom Brc</td>\n",
       "      <td>Yuksom Government Secondary School</td>\n",
       "      <td>PS</td>\n",
       "      <td>Private (Unaided)</td>\n",
       "      <td>LASSO, TASHIDING</td>\n",
       "      <td>Gyalshing</td>\n",
       "      <td>...</td>\n",
       "      <td>38754.66806</td>\n",
       "      <td>0.0</td>\n",
       "      <td>0.0</td>\n",
       "      <td>0.0</td>\n",
       "      <td>Recognized</td>\n",
       "      <td>GOVT. OF SIKKIM</td>\n",
       "      <td>None</td>\n",
       "      <td>Class 1</td>\n",
       "      <td>Class 5</td>\n",
       "      <td>None</td>\n",
       "    </tr>\n",
       "    <tr>\n",
       "      <th>1247</th>\n",
       "      <td>1247</td>\n",
       "      <td>West</td>\n",
       "      <td>S0340</td>\n",
       "      <td>TINGTING GAON GOVERNMENT PRIMARY SCHOOL</td>\n",
       "      <td>Yuksom Brc</td>\n",
       "      <td>Yuksom Government Secondary School</td>\n",
       "      <td>PS</td>\n",
       "      <td>State Govt.</td>\n",
       "      <td>TING TING GAON</td>\n",
       "      <td>Gyalshing</td>\n",
       "      <td>...</td>\n",
       "      <td>29587</td>\n",
       "      <td>36.0</td>\n",
       "      <td>3.0</td>\n",
       "      <td>6.0</td>\n",
       "      <td>Recognized</td>\n",
       "      <td>STATE GOVERNMENT</td>\n",
       "      <td>None</td>\n",
       "      <td>Class 1</td>\n",
       "      <td>Class 5</td>\n",
       "      <td>None</td>\n",
       "    </tr>\n",
       "    <tr>\n",
       "      <th>1248</th>\n",
       "      <td>1248</td>\n",
       "      <td>West</td>\n",
       "      <td>S0542</td>\n",
       "      <td>TSONG GOVERNMENT PRIMARY SCHOOL</td>\n",
       "      <td>Yuksom Brc</td>\n",
       "      <td>Yuksom Government Secondary School</td>\n",
       "      <td>PS</td>\n",
       "      <td>State Govt.</td>\n",
       "      <td>TSONG</td>\n",
       "      <td>Gyalshing</td>\n",
       "      <td>...</td>\n",
       "      <td>28176</td>\n",
       "      <td>40.0</td>\n",
       "      <td>7.0</td>\n",
       "      <td>8.0</td>\n",
       "      <td>Recognized</td>\n",
       "      <td>State Government</td>\n",
       "      <td>None</td>\n",
       "      <td>Class 1</td>\n",
       "      <td>Class 5</td>\n",
       "      <td>C.B.S.E.</td>\n",
       "    </tr>\n",
       "  </tbody>\n",
       "</table>\n",
       "<p>1249 rows × 31 columns</p>\n",
       "</div>"
      ],
      "text/plain": [
       "      index DistrictName EstablishmentCode  \\\n",
       "0         0         East             S0169   \n",
       "1         1         East             S0099   \n",
       "2         2         East             S0848   \n",
       "3         3         East             S0190   \n",
       "4         4         East             S0111   \n",
       "...     ...          ...               ...   \n",
       "1244   1244         West             S0336   \n",
       "1245   1245         West             S0591   \n",
       "1246   1246         West             S1045   \n",
       "1247   1247         West             S0340   \n",
       "1248   1248         West             S0542   \n",
       "\n",
       "                                      EstablishmentName     BRCName  \\\n",
       "0                  BUDANG GOVERNMENT PRIMARY SCHOOL (E)    Duga Brc   \n",
       "1     CENTRAL PENDAM GOVERNMENT SENIOR SECONDARY SCHOOL    Duga Brc   \n",
       "2                 CENTRAL POINT ACADEMY, CENTRAL PENDAM    Duga Brc   \n",
       "3         CHEURIBOTEY GOVERNMENT JUNIOR HIGH SCHOOL (E)    Duga Brc   \n",
       "4                      DUGA GOVERNMENT SECONDARY SCHOOL    Duga Brc   \n",
       "...                                                 ...         ...   \n",
       "1244               MANGSABONG GOVERNMENT PRIMARY SCHOOL  Yuksom Brc   \n",
       "1245          MANGTABONG GOVERNMENT PRIMARY SCHOOL(SSA)  Yuksom Brc   \n",
       "1246              NEW HORIZON ACADEMY, LASSO(TASHIDING)  Yuksom Brc   \n",
       "1247            TINGTING GAON GOVERNMENT PRIMARY SCHOOL  Yuksom Brc   \n",
       "1248                    TSONG GOVERNMENT PRIMARY SCHOOL  Yuksom Brc   \n",
       "\n",
       "                                                CRCName SchoolLevel  \\\n",
       "0     Central Pendam Government Senior Secondary School          PS   \n",
       "1     Central Pendam Government Senior Secondary School         SSS   \n",
       "2     Central Pendam Government Senior Secondary School          SS   \n",
       "3     Central Pendam Government Senior Secondary School         JHS   \n",
       "4     Central Pendam Government Senior Secondary School          SS   \n",
       "...                                                 ...         ...   \n",
       "1244                 Yuksom Government Secondary School          PS   \n",
       "1245                 Yuksom Government Secondary School          PS   \n",
       "1246                 Yuksom Government Secondary School          PS   \n",
       "1247                 Yuksom Government Secondary School          PS   \n",
       "1248                 Yuksom Government Secondary School          PS   \n",
       "\n",
       "         ManagementName            LocalityHabitation SubdivisionName  ...  \\\n",
       "0           State Govt.                        BUDANG         Gangtok  ...   \n",
       "1           State Govt.                CENTRAL PENDAM         Gangtok  ...   \n",
       "2     Private (Unaided)  UPPER BHURUNG CENTRAL PENDAM         Gangtok  ...   \n",
       "3           State Govt.                   CHEURIBOTEY         Gangtok  ...   \n",
       "4           State Govt.                          DUGA         Gangtok  ...   \n",
       "...                 ...                           ...             ...  ...   \n",
       "1244        State Govt.              MANGSABONG BUSTY       Gyalshing  ...   \n",
       "1245        State Govt.            MANGTABONG(YUKSAM)       Gyalshing  ...   \n",
       "1246  Private (Unaided)              LASSO, TASHIDING       Gyalshing  ...   \n",
       "1247        State Govt.                TING TING GAON       Gyalshing  ...   \n",
       "1248        State Govt.                         TSONG       Gyalshing  ...   \n",
       "\n",
       "     EstablishedDate DistrictHQDistance (in Km) CRCDistance (in Km)  \\\n",
       "0              28126                       58.0                 8.0   \n",
       "1              15342                       50.0                 0.0   \n",
       "2        37257.38681                       49.0                 1.5   \n",
       "3              28856                       60.0                 6.0   \n",
       "4               1828                       52.0                 0.0   \n",
       "...              ...                        ...                 ...   \n",
       "1244           29221                       45.0                 4.0   \n",
       "1245           38508                       52.0                 2.0   \n",
       "1246     38754.66806                        0.0                 0.0   \n",
       "1247           29587                       36.0                 3.0   \n",
       "1248           28176                       40.0                 7.0   \n",
       "\n",
       "     BACDistance (in Km) IsRecognized           RecognizedBy  \\\n",
       "0                   16.0   Recognized                   HRDD   \n",
       "1                    6.0   Recognized                   HRDD   \n",
       "2                    6.0   Recognized  HRDD, GOVT. OF SIKKIM   \n",
       "3                    6.0   Recognized            State Govt.   \n",
       "4                    0.5   Recognized               c.b.s.e.   \n",
       "...                  ...          ...                    ...   \n",
       "1244                 5.0   Recognized       STATE GOVERNMENT   \n",
       "1245                 5.0   Recognized       STATE GOVERNMENT   \n",
       "1246                 0.0   Recognized        GOVT. OF SIKKIM   \n",
       "1247                 6.0   Recognized       STATE GOVERNMENT   \n",
       "1248                 8.0   Recognized       State Government   \n",
       "\n",
       "     ContactPersonName LowestClass HighestClass BoardName  \n",
       "0                 None     Class 1      Class 5      None  \n",
       "1                 None     Class 1     Class 12  C.B.S.E.  \n",
       "2                 None     Class 1     Class 10  C.B.S.E.  \n",
       "3                 None     Class 1      Class 8      None  \n",
       "4                 None     Class 1     Class 10  C.B.S.E.  \n",
       "...                ...         ...          ...       ...  \n",
       "1244              None     Class 1      Class 5      None  \n",
       "1245              None     Class 1      Class 5  C.B.S.E.  \n",
       "1246              None     Class 1      Class 5      None  \n",
       "1247              None     Class 1      Class 5      None  \n",
       "1248              None     Class 1      Class 5  C.B.S.E.  \n",
       "\n",
       "[1249 rows x 31 columns]"
      ]
     },
     "execution_count": 7,
     "metadata": {},
     "output_type": "execute_result"
    }
   ],
   "source": [
    "# Using SELECT view schools data\n",
    "query = \"\"\"\n",
    "SELECT *\n",
    "FROM schools\n",
    "\"\"\"\n",
    "# Read the sql query into pandas to view the results\n",
    "df = pd.read_sql_query(query, conn)\n",
    "df"
   ]
  },
  {
   "cell_type": "markdown",
   "metadata": {
    "id": "k5rvo0dX9iHZ"
   },
   "source": [
    "Select only the DistrictName and PhoneNo from the schools table"
   ]
  },
  {
   "cell_type": "code",
   "execution_count": 8,
   "metadata": {
    "ExecuteTime": {
     "end_time": "2023-02-07T21:42:18.562407Z",
     "start_time": "2023-02-07T21:42:18.502764Z"
    },
    "colab": {
     "base_uri": "https://localhost:8080/",
     "height": 606
    },
    "executionInfo": {
     "elapsed": 203,
     "status": "ok",
     "timestamp": 1664927897051,
     "user": {
      "displayName": "Josh Johnson",
      "userId": "08606005069848925988"
     },
     "user_tz": 420
    },
    "id": "TcEi5uUBzcc2",
    "outputId": "5538a968-f175-4101-b34d-8936803ce295"
   },
   "outputs": [
    {
     "name": "stdout",
     "output_type": "stream",
     "text": [
      "2023-02-07 13:42:18,504 INFO sqlalchemy.engine.Engine \n",
      "SELECT DistrictName, PhoneNo\n",
      "FROM schools\n",
      "\n",
      "2023-02-07 13:42:18,504 INFO sqlalchemy.engine.Engine [raw sql] ()\n"
     ]
    },
    {
     "data": {
      "text/html": [
       "<div>\n",
       "<style scoped>\n",
       "    .dataframe tbody tr th:only-of-type {\n",
       "        vertical-align: middle;\n",
       "    }\n",
       "\n",
       "    .dataframe tbody tr th {\n",
       "        vertical-align: top;\n",
       "    }\n",
       "\n",
       "    .dataframe thead th {\n",
       "        text-align: right;\n",
       "    }\n",
       "</style>\n",
       "<table border=\"1\" class=\"dataframe\">\n",
       "  <thead>\n",
       "    <tr style=\"text-align: right;\">\n",
       "      <th></th>\n",
       "      <th>DistrictName</th>\n",
       "      <th>PhoneNo</th>\n",
       "    </tr>\n",
       "  </thead>\n",
       "  <tbody>\n",
       "    <tr>\n",
       "      <th>0</th>\n",
       "      <td>East</td>\n",
       "      <td>None</td>\n",
       "    </tr>\n",
       "    <tr>\n",
       "      <th>1</th>\n",
       "      <td>East</td>\n",
       "      <td>3592263812</td>\n",
       "    </tr>\n",
       "    <tr>\n",
       "      <th>2</th>\n",
       "      <td>East</td>\n",
       "      <td>03592263809/263960</td>\n",
       "    </tr>\n",
       "    <tr>\n",
       "      <th>3</th>\n",
       "      <td>East</td>\n",
       "      <td>None</td>\n",
       "    </tr>\n",
       "    <tr>\n",
       "      <th>4</th>\n",
       "      <td>East</td>\n",
       "      <td>9832082915</td>\n",
       "    </tr>\n",
       "    <tr>\n",
       "      <th>...</th>\n",
       "      <td>...</td>\n",
       "      <td>...</td>\n",
       "    </tr>\n",
       "    <tr>\n",
       "      <th>1244</th>\n",
       "      <td>West</td>\n",
       "      <td>9733084983</td>\n",
       "    </tr>\n",
       "    <tr>\n",
       "      <th>1245</th>\n",
       "      <td>West</td>\n",
       "      <td>None</td>\n",
       "    </tr>\n",
       "    <tr>\n",
       "      <th>1246</th>\n",
       "      <td>West</td>\n",
       "      <td>9735054681</td>\n",
       "    </tr>\n",
       "    <tr>\n",
       "      <th>1247</th>\n",
       "      <td>West</td>\n",
       "      <td>9593377402</td>\n",
       "    </tr>\n",
       "    <tr>\n",
       "      <th>1248</th>\n",
       "      <td>West</td>\n",
       "      <td>None</td>\n",
       "    </tr>\n",
       "  </tbody>\n",
       "</table>\n",
       "<p>1249 rows × 2 columns</p>\n",
       "</div>"
      ],
      "text/plain": [
       "     DistrictName             PhoneNo\n",
       "0            East                None\n",
       "1            East          3592263812\n",
       "2            East  03592263809/263960\n",
       "3            East                None\n",
       "4            East          9832082915\n",
       "...           ...                 ...\n",
       "1244         West          9733084983\n",
       "1245         West                None\n",
       "1246         West          9735054681\n",
       "1247         West          9593377402\n",
       "1248         West                None\n",
       "\n",
       "[1249 rows x 2 columns]"
      ]
     },
     "execution_count": 8,
     "metadata": {},
     "output_type": "execute_result"
    }
   ],
   "source": [
    "# Using SELECT view DistrictName and PhoneNo from school\n",
    "query = \"\"\"\n",
    "SELECT DistrictName, PhoneNo\n",
    "FROM schools\n",
    "\"\"\"\n",
    "# Read the sql query into pandas to view the results\n",
    "df = pd.read_sql_query(query, conn)\n",
    "df"
   ]
  },
  {
   "cell_type": "markdown",
   "metadata": {
    "id": "EemnRaoRBW5x"
   },
   "source": [
    "What is the average BACDistance (in Km)? Rename the output column to \"avg_bac_distance.\""
   ]
  },
  {
   "cell_type": "code",
   "execution_count": 9,
   "metadata": {
    "ExecuteTime": {
     "end_time": "2023-02-07T21:42:18.586630Z",
     "start_time": "2023-02-07T21:42:18.563322Z"
    },
    "colab": {
     "base_uri": "https://localhost:8080/",
     "height": 263
    },
    "executionInfo": {
     "elapsed": 172,
     "status": "ok",
     "timestamp": 1664927897218,
     "user": {
      "displayName": "Josh Johnson",
      "userId": "08606005069848925988"
     },
     "user_tz": 420
    },
    "id": "g8Uule2mBRPl",
    "outputId": "109b075b-8cba-4694-f0aa-dfb437a76fce"
   },
   "outputs": [
    {
     "name": "stdout",
     "output_type": "stream",
     "text": [
      "2023-02-07 13:42:18,565 INFO sqlalchemy.engine.Engine \n",
      "SELECT AVG(`BACDistance (in Km)`)\n",
      "FROM schools\n",
      "\n",
      "2023-02-07 13:42:18,566 INFO sqlalchemy.engine.Engine [raw sql] ()\n"
     ]
    },
    {
     "data": {
      "text/html": [
       "<div>\n",
       "<style scoped>\n",
       "    .dataframe tbody tr th:only-of-type {\n",
       "        vertical-align: middle;\n",
       "    }\n",
       "\n",
       "    .dataframe tbody tr th {\n",
       "        vertical-align: top;\n",
       "    }\n",
       "\n",
       "    .dataframe thead th {\n",
       "        text-align: right;\n",
       "    }\n",
       "</style>\n",
       "<table border=\"1\" class=\"dataframe\">\n",
       "  <thead>\n",
       "    <tr style=\"text-align: right;\">\n",
       "      <th></th>\n",
       "      <th>AVG(`BACDistance (in Km)`)</th>\n",
       "    </tr>\n",
       "  </thead>\n",
       "  <tbody>\n",
       "    <tr>\n",
       "      <th>0</th>\n",
       "      <td>12.681822</td>\n",
       "    </tr>\n",
       "  </tbody>\n",
       "</table>\n",
       "</div>"
      ],
      "text/plain": [
       "   AVG(`BACDistance (in Km)`)\n",
       "0                   12.681822"
      ]
     },
     "execution_count": 9,
     "metadata": {},
     "output_type": "execute_result"
    }
   ],
   "source": [
    "# What is the average BACDistance (in Km)? Rename the output column to \"avg_bac_distance.\"\n",
    "query = \"\"\"\n",
    "SELECT AVG(`BACDistance (in Km)`)\n",
    "FROM schools\n",
    "\"\"\"\n",
    "# Read the sql query into pandas to view the results\n",
    "df = pd.read_sql_query(query, conn)\n",
    "df"
   ]
  },
  {
   "cell_type": "markdown",
   "metadata": {
    "id": "0676eUq_ByOR"
   },
   "source": [
    "What is the average BACDistance (in Km) by School Level? Sort the results from highest average to lowest average."
   ]
  },
  {
   "cell_type": "code",
   "execution_count": 10,
   "metadata": {
    "ExecuteTime": {
     "end_time": "2023-02-07T21:42:18.602175Z",
     "start_time": "2023-02-07T21:42:18.586939Z"
    },
    "colab": {
     "base_uri": "https://localhost:8080/",
     "height": 462
    },
    "executionInfo": {
     "elapsed": 10,
     "status": "ok",
     "timestamp": 1664927897218,
     "user": {
      "displayName": "Josh Johnson",
      "userId": "08606005069848925988"
     },
     "user_tz": 420
    },
    "id": "z_hz06fQB6Dd",
    "outputId": "a945f381-4a1e-427f-a85a-cfe97ac7e29a"
   },
   "outputs": [
    {
     "name": "stdout",
     "output_type": "stream",
     "text": [
      "2023-02-07 13:42:18,586 INFO sqlalchemy.engine.Engine \n",
      "SELECT AVG(`BACDistance (in Km)`) as avg_bac_distance\n",
      "FROM schools\n",
      "GROUP BY SchoolLevel\n",
      "ORDER BY avg_bac_distance DESC\n",
      "\n",
      "2023-02-07 13:42:18,586 INFO sqlalchemy.engine.Engine [raw sql] ()\n"
     ]
    },
    {
     "data": {
      "text/html": [
       "<div>\n",
       "<style scoped>\n",
       "    .dataframe tbody tr th:only-of-type {\n",
       "        vertical-align: middle;\n",
       "    }\n",
       "\n",
       "    .dataframe tbody tr th {\n",
       "        vertical-align: top;\n",
       "    }\n",
       "\n",
       "    .dataframe thead th {\n",
       "        text-align: right;\n",
       "    }\n",
       "</style>\n",
       "<table border=\"1\" class=\"dataframe\">\n",
       "  <thead>\n",
       "    <tr style=\"text-align: right;\">\n",
       "      <th></th>\n",
       "      <th>avg_bac_distance</th>\n",
       "    </tr>\n",
       "  </thead>\n",
       "  <tbody>\n",
       "    <tr>\n",
       "      <th>0</th>\n",
       "      <td>13.692647</td>\n",
       "    </tr>\n",
       "    <tr>\n",
       "      <th>1</th>\n",
       "      <td>12.830787</td>\n",
       "    </tr>\n",
       "    <tr>\n",
       "      <th>2</th>\n",
       "      <td>12.630872</td>\n",
       "    </tr>\n",
       "    <tr>\n",
       "      <th>3</th>\n",
       "      <td>10.863095</td>\n",
       "    </tr>\n",
       "    <tr>\n",
       "      <th>4</th>\n",
       "      <td>5.368421</td>\n",
       "    </tr>\n",
       "  </tbody>\n",
       "</table>\n",
       "</div>"
      ],
      "text/plain": [
       "   avg_bac_distance\n",
       "0         13.692647\n",
       "1         12.830787\n",
       "2         12.630872\n",
       "3         10.863095\n",
       "4          5.368421"
      ]
     },
     "execution_count": 10,
     "metadata": {},
     "output_type": "execute_result"
    }
   ],
   "source": [
    "# What is the average BACDistance (in Km) by School Level? Sort the results from highest average to lowest average.\n",
    "query = \"\"\"\n",
    "SELECT AVG(`BACDistance (in Km)`) as avg_bac_distance\n",
    "FROM schools\n",
    "GROUP BY SchoolLevel\n",
    "ORDER BY avg_bac_distance DESC\n",
    "\"\"\"\n",
    "# Read the sql query into pandas to view the results\n",
    "df = pd.read_sql_query(query, conn)\n",
    "df.head()"
   ]
  },
  {
   "cell_type": "markdown",
   "metadata": {
    "id": "ziwVWIhmCTaR"
   },
   "source": [
    "Repeat the previous query, but only display results where the average distance is at least 10 km."
   ]
  },
  {
   "cell_type": "code",
   "execution_count": 11,
   "metadata": {
    "ExecuteTime": {
     "end_time": "2023-02-07T21:42:18.621691Z",
     "start_time": "2023-02-07T21:42:18.603174Z"
    },
    "colab": {
     "base_uri": "https://localhost:8080/",
     "height": 467
    },
    "executionInfo": {
     "elapsed": 10,
     "status": "ok",
     "timestamp": 1664927897219,
     "user": {
      "displayName": "Josh Johnson",
      "userId": "08606005069848925988"
     },
     "user_tz": 420
    },
    "id": "Hqjr-edGCZhr",
    "outputId": "df5b43c1-b189-4607-9ccb-fc37bfeb6918"
   },
   "outputs": [
    {
     "name": "stdout",
     "output_type": "stream",
     "text": [
      "2023-02-07 13:42:18,605 INFO sqlalchemy.engine.Engine \n",
      "SELECT AVG(`BACDistance (in Km)`) as avg_bac_distance\n",
      "FROM schools\n",
      "GROUP BY SchoolLevel\n",
      "HAVING avg_bac_distance >= 10\n",
      "ORDER BY avg_bac_distance DESC\n",
      "\n",
      "2023-02-07 13:42:18,606 INFO sqlalchemy.engine.Engine [raw sql] ()\n"
     ]
    },
    {
     "data": {
      "text/html": [
       "<div>\n",
       "<style scoped>\n",
       "    .dataframe tbody tr th:only-of-type {\n",
       "        vertical-align: middle;\n",
       "    }\n",
       "\n",
       "    .dataframe tbody tr th {\n",
       "        vertical-align: top;\n",
       "    }\n",
       "\n",
       "    .dataframe thead th {\n",
       "        text-align: right;\n",
       "    }\n",
       "</style>\n",
       "<table border=\"1\" class=\"dataframe\">\n",
       "  <thead>\n",
       "    <tr style=\"text-align: right;\">\n",
       "      <th></th>\n",
       "      <th>avg_bac_distance</th>\n",
       "    </tr>\n",
       "  </thead>\n",
       "  <tbody>\n",
       "    <tr>\n",
       "      <th>0</th>\n",
       "      <td>13.692647</td>\n",
       "    </tr>\n",
       "    <tr>\n",
       "      <th>1</th>\n",
       "      <td>12.830787</td>\n",
       "    </tr>\n",
       "    <tr>\n",
       "      <th>2</th>\n",
       "      <td>12.630872</td>\n",
       "    </tr>\n",
       "    <tr>\n",
       "      <th>3</th>\n",
       "      <td>10.863095</td>\n",
       "    </tr>\n",
       "  </tbody>\n",
       "</table>\n",
       "</div>"
      ],
      "text/plain": [
       "   avg_bac_distance\n",
       "0         13.692647\n",
       "1         12.830787\n",
       "2         12.630872\n",
       "3         10.863095"
      ]
     },
     "execution_count": 11,
     "metadata": {},
     "output_type": "execute_result"
    }
   ],
   "source": [
    "# Repeat the previous query, but only display results where the average distance is at least 10 km.\n",
    "query = \"\"\"\n",
    "SELECT AVG(`BACDistance (in Km)`) as avg_bac_distance\n",
    "FROM schools\n",
    "GROUP BY SchoolLevel\n",
    "HAVING avg_bac_distance >= 10\n",
    "ORDER BY avg_bac_distance DESC\n",
    "\"\"\"\n",
    "# Read the sql query into pandas to view the results\n",
    "df = pd.read_sql_query(query, conn)\n",
    "df"
   ]
  },
  {
   "cell_type": "markdown",
   "metadata": {
    "id": "UkQ1yVUTDeWq"
   },
   "source": [
    "Join the two tables together (school_details and school_facility_details). Start by displaying all of the columns, but limit the resulting rows to just 2."
   ]
  },
  {
   "cell_type": "code",
   "execution_count": 12,
   "metadata": {
    "ExecuteTime": {
     "end_time": "2023-02-07T21:42:18.651329Z",
     "start_time": "2023-02-07T21:42:18.623672Z"
    },
    "colab": {
     "base_uri": "https://localhost:8080/",
     "height": 671
    },
    "executionInfo": {
     "elapsed": 177,
     "status": "ok",
     "timestamp": 1664927897389,
     "user": {
      "displayName": "Josh Johnson",
      "userId": "08606005069848925988"
     },
     "user_tz": 420
    },
    "id": "Xz5flnPzDn0w",
    "outputId": "539aa1aa-b477-4b92-db79-ee7acad2e3d5"
   },
   "outputs": [
    {
     "name": "stdout",
     "output_type": "stream",
     "text": [
      "2023-02-07 13:42:18,624 INFO sqlalchemy.engine.Engine \n",
      "SELECT *\n",
      "FROM schools as s\n",
      "JOIN facilities as f\n",
      "WHERE s.EstablishmentCode = f.EstablishmentCode\n",
      "LIMIT 2\n",
      "\n",
      "2023-02-07 13:42:18,625 INFO sqlalchemy.engine.Engine [raw sql] ()\n"
     ]
    },
    {
     "data": {
      "text/html": [
       "<div>\n",
       "<style scoped>\n",
       "    .dataframe tbody tr th:only-of-type {\n",
       "        vertical-align: middle;\n",
       "    }\n",
       "\n",
       "    .dataframe tbody tr th {\n",
       "        vertical-align: top;\n",
       "    }\n",
       "\n",
       "    .dataframe thead th {\n",
       "        text-align: right;\n",
       "    }\n",
       "</style>\n",
       "<table border=\"1\" class=\"dataframe\">\n",
       "  <thead>\n",
       "    <tr style=\"text-align: right;\">\n",
       "      <th></th>\n",
       "      <th>index</th>\n",
       "      <th>DistrictName</th>\n",
       "      <th>EstablishmentCode</th>\n",
       "      <th>EstablishmentName</th>\n",
       "      <th>BRCName</th>\n",
       "      <th>CRCName</th>\n",
       "      <th>SchoolLevel</th>\n",
       "      <th>ManagementName</th>\n",
       "      <th>LocalityHabitation</th>\n",
       "      <th>SubdivisionName</th>\n",
       "      <th>...</th>\n",
       "      <th>EstablishmentName</th>\n",
       "      <th>IsLibraryAvailable</th>\n",
       "      <th>AvailableBooksCount</th>\n",
       "      <th>IsFireExtgAvailable</th>\n",
       "      <th>ExtinguisherCount</th>\n",
       "      <th>HOIRoomAvailable</th>\n",
       "      <th>IsStaffRoomAvailable</th>\n",
       "      <th>NoofStaffRoom</th>\n",
       "      <th>IsLockerForStaffAvailable</th>\n",
       "      <th>IsSportsStoreRoomAvailable</th>\n",
       "    </tr>\n",
       "  </thead>\n",
       "  <tbody>\n",
       "    <tr>\n",
       "      <th>0</th>\n",
       "      <td>0</td>\n",
       "      <td>East</td>\n",
       "      <td>S0169</td>\n",
       "      <td>BUDANG GOVERNMENT PRIMARY SCHOOL (E)</td>\n",
       "      <td>Duga Brc</td>\n",
       "      <td>Central Pendam Government Senior Secondary School</td>\n",
       "      <td>PS</td>\n",
       "      <td>State Govt.</td>\n",
       "      <td>BUDANG</td>\n",
       "      <td>Gangtok</td>\n",
       "      <td>...</td>\n",
       "      <td>BUDANG GOVERNMENT PRIMARY SCHOOL (E)</td>\n",
       "      <td>Available</td>\n",
       "      <td>100</td>\n",
       "      <td>Available</td>\n",
       "      <td>2</td>\n",
       "      <td>Available</td>\n",
       "      <td>Available</td>\n",
       "      <td>1</td>\n",
       "      <td>Not Available</td>\n",
       "      <td>Not Available</td>\n",
       "    </tr>\n",
       "    <tr>\n",
       "      <th>1</th>\n",
       "      <td>1</td>\n",
       "      <td>East</td>\n",
       "      <td>S0099</td>\n",
       "      <td>CENTRAL PENDAM GOVERNMENT SENIOR SECONDARY SCHOOL</td>\n",
       "      <td>Duga Brc</td>\n",
       "      <td>Central Pendam Government Senior Secondary School</td>\n",
       "      <td>SSS</td>\n",
       "      <td>State Govt.</td>\n",
       "      <td>CENTRAL PENDAM</td>\n",
       "      <td>Gangtok</td>\n",
       "      <td>...</td>\n",
       "      <td>CENTRAL PENDAM GOVERNMENT SENIOR SECONDARY SCHOOL</td>\n",
       "      <td>Available</td>\n",
       "      <td>0</td>\n",
       "      <td>Available</td>\n",
       "      <td>5</td>\n",
       "      <td>Available</td>\n",
       "      <td>Available</td>\n",
       "      <td>2</td>\n",
       "      <td>Not Available</td>\n",
       "      <td>Available</td>\n",
       "    </tr>\n",
       "  </tbody>\n",
       "</table>\n",
       "<p>2 rows × 43 columns</p>\n",
       "</div>"
      ],
      "text/plain": [
       "   index DistrictName EstablishmentCode  \\\n",
       "0      0         East             S0169   \n",
       "1      1         East             S0099   \n",
       "\n",
       "                                   EstablishmentName   BRCName  \\\n",
       "0               BUDANG GOVERNMENT PRIMARY SCHOOL (E)  Duga Brc   \n",
       "1  CENTRAL PENDAM GOVERNMENT SENIOR SECONDARY SCHOOL  Duga Brc   \n",
       "\n",
       "                                             CRCName SchoolLevel  \\\n",
       "0  Central Pendam Government Senior Secondary School          PS   \n",
       "1  Central Pendam Government Senior Secondary School         SSS   \n",
       "\n",
       "  ManagementName LocalityHabitation SubdivisionName  ...  \\\n",
       "0    State Govt.             BUDANG         Gangtok  ...   \n",
       "1    State Govt.     CENTRAL PENDAM         Gangtok  ...   \n",
       "\n",
       "                                   EstablishmentName IsLibraryAvailable  \\\n",
       "0               BUDANG GOVERNMENT PRIMARY SCHOOL (E)          Available   \n",
       "1  CENTRAL PENDAM GOVERNMENT SENIOR SECONDARY SCHOOL          Available   \n",
       "\n",
       "  AvailableBooksCount IsFireExtgAvailable ExtinguisherCount HOIRoomAvailable  \\\n",
       "0                 100           Available                 2        Available   \n",
       "1                   0           Available                 5        Available   \n",
       "\n",
       "  IsStaffRoomAvailable NoofStaffRoom IsLockerForStaffAvailable  \\\n",
       "0            Available             1             Not Available   \n",
       "1            Available             2             Not Available   \n",
       "\n",
       "  IsSportsStoreRoomAvailable  \n",
       "0              Not Available  \n",
       "1                  Available  \n",
       "\n",
       "[2 rows x 43 columns]"
      ]
     },
     "execution_count": 12,
     "metadata": {},
     "output_type": "execute_result"
    }
   ],
   "source": [
    "# Join the two tables together (school_details and school_facility_details). \n",
    "# Start by displaying all of the columns, but limit the resulting rows to just 2.\n",
    "query = \"\"\"\n",
    "SELECT *\n",
    "FROM schools as s\n",
    "JOIN facilities as f\n",
    "WHERE s.EstablishmentCode = f.EstablishmentCode\n",
    "LIMIT 2\n",
    "\"\"\"\n",
    "# Read the sql query into pandas to view the results\n",
    "df = pd.read_sql_query(query, conn)\n",
    "df"
   ]
  },
  {
   "cell_type": "markdown",
   "metadata": {
    "id": "gd-UyvdTEu13"
   },
   "source": [
    "Now, select just the schools where the SchoolLevel is \"PS\" that do not have libraries."
   ]
  },
  {
   "cell_type": "code",
   "execution_count": 13,
   "metadata": {
    "ExecuteTime": {
     "end_time": "2023-02-07T21:42:18.685646Z",
     "start_time": "2023-02-07T21:42:18.652295Z"
    },
    "colab": {
     "base_uri": "https://localhost:8080/",
     "height": 989
    },
    "executionInfo": {
     "elapsed": 180,
     "status": "ok",
     "timestamp": 1664927897566,
     "user": {
      "displayName": "Josh Johnson",
      "userId": "08606005069848925988"
     },
     "user_tz": 420
    },
    "id": "XomzXHigEvvx",
    "outputId": "1f6c6804-7534-4ba8-9ba4-d07307a20457"
   },
   "outputs": [
    {
     "name": "stdout",
     "output_type": "stream",
     "text": [
      "2023-02-07 13:42:18,653 INFO sqlalchemy.engine.Engine \n",
      "SELECT *\n",
      "FROM schools as s\n",
      "JOIN facilities as f\n",
      "WHERE s.EstablishmentCode = f.EstablishmentCode AND s.SchoolLevel = \"PS\" AND f.IsLibraryAvailable = \"Not Available\"\n",
      "\n",
      "2023-02-07 13:42:18,653 INFO sqlalchemy.engine.Engine [raw sql] ()\n"
     ]
    },
    {
     "data": {
      "text/html": [
       "<div>\n",
       "<style scoped>\n",
       "    .dataframe tbody tr th:only-of-type {\n",
       "        vertical-align: middle;\n",
       "    }\n",
       "\n",
       "    .dataframe tbody tr th {\n",
       "        vertical-align: top;\n",
       "    }\n",
       "\n",
       "    .dataframe thead th {\n",
       "        text-align: right;\n",
       "    }\n",
       "</style>\n",
       "<table border=\"1\" class=\"dataframe\">\n",
       "  <thead>\n",
       "    <tr style=\"text-align: right;\">\n",
       "      <th></th>\n",
       "      <th>index</th>\n",
       "      <th>DistrictName</th>\n",
       "      <th>EstablishmentCode</th>\n",
       "      <th>EstablishmentName</th>\n",
       "      <th>BRCName</th>\n",
       "      <th>CRCName</th>\n",
       "      <th>SchoolLevel</th>\n",
       "      <th>ManagementName</th>\n",
       "      <th>LocalityHabitation</th>\n",
       "      <th>SubdivisionName</th>\n",
       "      <th>...</th>\n",
       "      <th>EstablishmentName</th>\n",
       "      <th>IsLibraryAvailable</th>\n",
       "      <th>AvailableBooksCount</th>\n",
       "      <th>IsFireExtgAvailable</th>\n",
       "      <th>ExtinguisherCount</th>\n",
       "      <th>HOIRoomAvailable</th>\n",
       "      <th>IsStaffRoomAvailable</th>\n",
       "      <th>NoofStaffRoom</th>\n",
       "      <th>IsLockerForStaffAvailable</th>\n",
       "      <th>IsSportsStoreRoomAvailable</th>\n",
       "    </tr>\n",
       "  </thead>\n",
       "  <tbody>\n",
       "    <tr>\n",
       "      <th>0</th>\n",
       "      <td>5</td>\n",
       "      <td>East</td>\n",
       "      <td>S0856</td>\n",
       "      <td>EASWARAMMA SAI GURUKOOL ACCADEMY</td>\n",
       "      <td>Duga Brc</td>\n",
       "      <td>Central Pendam Government Senior Secondary School</td>\n",
       "      <td>PS</td>\n",
       "      <td>Private (Unaided)</td>\n",
       "      <td>RALUNG</td>\n",
       "      <td>Gangtok</td>\n",
       "      <td>...</td>\n",
       "      <td>EASWARAMMA SAI GURUKOOL ACCADEMY</td>\n",
       "      <td>Not Available</td>\n",
       "      <td>0</td>\n",
       "      <td>Available</td>\n",
       "      <td>2</td>\n",
       "      <td>Available</td>\n",
       "      <td>Not Available</td>\n",
       "      <td>0</td>\n",
       "      <td>Not Available</td>\n",
       "      <td>Not Available</td>\n",
       "    </tr>\n",
       "    <tr>\n",
       "      <th>1</th>\n",
       "      <td>8</td>\n",
       "      <td>East</td>\n",
       "      <td>S0876</td>\n",
       "      <td>NEW GARDEN BOARDING SCHOOL (SAJONG)</td>\n",
       "      <td>Duga Brc</td>\n",
       "      <td>Central Pendam Government Senior Secondary School</td>\n",
       "      <td>PS</td>\n",
       "      <td>Private (Unaided)</td>\n",
       "      <td>CENTRAL PENDAM</td>\n",
       "      <td>Gangtok</td>\n",
       "      <td>...</td>\n",
       "      <td>NEW GARDEN BOARDING SCHOOL (SAJONG)</td>\n",
       "      <td>Not Available</td>\n",
       "      <td>0</td>\n",
       "      <td>Not Available</td>\n",
       "      <td>0</td>\n",
       "      <td>Not Available</td>\n",
       "      <td>Not Available</td>\n",
       "      <td>0</td>\n",
       "      <td>Not Available</td>\n",
       "      <td>Available</td>\n",
       "    </tr>\n",
       "    <tr>\n",
       "      <th>2</th>\n",
       "      <td>15</td>\n",
       "      <td>East</td>\n",
       "      <td>S1230</td>\n",
       "      <td>SARASWATI SHISHU VIDHYALAYA, BUDANG</td>\n",
       "      <td>Duga Brc</td>\n",
       "      <td>Central Pendam Government Senior Secondary School</td>\n",
       "      <td>PS</td>\n",
       "      <td>Private (Unaided)</td>\n",
       "      <td>CENTRAL PENDAM</td>\n",
       "      <td>Gangtok</td>\n",
       "      <td>...</td>\n",
       "      <td>SARASWATI SHISHU VIDHYALAYA, BUDANG</td>\n",
       "      <td>Not Available</td>\n",
       "      <td>0</td>\n",
       "      <td>Not Available</td>\n",
       "      <td>0</td>\n",
       "      <td>Not Available</td>\n",
       "      <td>Available</td>\n",
       "      <td>1</td>\n",
       "      <td>Not Available</td>\n",
       "      <td>Not Available</td>\n",
       "    </tr>\n",
       "    <tr>\n",
       "      <th>3</th>\n",
       "      <td>16</td>\n",
       "      <td>East</td>\n",
       "      <td>S0768</td>\n",
       "      <td>SAWNEY GOVERNMENT PRIMARY SCHOOL</td>\n",
       "      <td>Duga Brc</td>\n",
       "      <td>Central Pendam Government Senior Secondary School</td>\n",
       "      <td>PS</td>\n",
       "      <td>State Govt.</td>\n",
       "      <td>SAWNEY</td>\n",
       "      <td>Gangtok</td>\n",
       "      <td>...</td>\n",
       "      <td>SAWNEY GOVERNMENT PRIMARY SCHOOL</td>\n",
       "      <td>Not Available</td>\n",
       "      <td>0</td>\n",
       "      <td>Available</td>\n",
       "      <td>1</td>\n",
       "      <td>Available</td>\n",
       "      <td>Available</td>\n",
       "      <td>1</td>\n",
       "      <td>Not Available</td>\n",
       "      <td>Not Available</td>\n",
       "    </tr>\n",
       "    <tr>\n",
       "      <th>4</th>\n",
       "      <td>20</td>\n",
       "      <td>East</td>\n",
       "      <td>S0131</td>\n",
       "      <td>UPPER PACHAK GOVERNMENT PRIMARY SCHOOL</td>\n",
       "      <td>Duga Brc</td>\n",
       "      <td>Central Pendam Government Senior Secondary School</td>\n",
       "      <td>PS</td>\n",
       "      <td>State Govt.</td>\n",
       "      <td>UPPER PACHAK</td>\n",
       "      <td>Gangtok</td>\n",
       "      <td>...</td>\n",
       "      <td>UPPER PACHAK GOVERNMENT PRIMARY SCHOOL</td>\n",
       "      <td>Not Available</td>\n",
       "      <td>0</td>\n",
       "      <td>Available</td>\n",
       "      <td>1</td>\n",
       "      <td>Not Available</td>\n",
       "      <td>Available</td>\n",
       "      <td>1</td>\n",
       "      <td>Not Available</td>\n",
       "      <td>Not Available</td>\n",
       "    </tr>\n",
       "  </tbody>\n",
       "</table>\n",
       "<p>5 rows × 43 columns</p>\n",
       "</div>"
      ],
      "text/plain": [
       "   index DistrictName EstablishmentCode  \\\n",
       "0      5         East             S0856   \n",
       "1      8         East             S0876   \n",
       "2     15         East             S1230   \n",
       "3     16         East             S0768   \n",
       "4     20         East             S0131   \n",
       "\n",
       "                        EstablishmentName   BRCName  \\\n",
       "0        EASWARAMMA SAI GURUKOOL ACCADEMY  Duga Brc   \n",
       "1     NEW GARDEN BOARDING SCHOOL (SAJONG)  Duga Brc   \n",
       "2     SARASWATI SHISHU VIDHYALAYA, BUDANG  Duga Brc   \n",
       "3        SAWNEY GOVERNMENT PRIMARY SCHOOL  Duga Brc   \n",
       "4  UPPER PACHAK GOVERNMENT PRIMARY SCHOOL  Duga Brc   \n",
       "\n",
       "                                             CRCName SchoolLevel  \\\n",
       "0  Central Pendam Government Senior Secondary School          PS   \n",
       "1  Central Pendam Government Senior Secondary School          PS   \n",
       "2  Central Pendam Government Senior Secondary School          PS   \n",
       "3  Central Pendam Government Senior Secondary School          PS   \n",
       "4  Central Pendam Government Senior Secondary School          PS   \n",
       "\n",
       "      ManagementName LocalityHabitation SubdivisionName  ...  \\\n",
       "0  Private (Unaided)             RALUNG         Gangtok  ...   \n",
       "1  Private (Unaided)     CENTRAL PENDAM         Gangtok  ...   \n",
       "2  Private (Unaided)     CENTRAL PENDAM         Gangtok  ...   \n",
       "3        State Govt.             SAWNEY         Gangtok  ...   \n",
       "4        State Govt.       UPPER PACHAK         Gangtok  ...   \n",
       "\n",
       "                        EstablishmentName IsLibraryAvailable  \\\n",
       "0        EASWARAMMA SAI GURUKOOL ACCADEMY      Not Available   \n",
       "1     NEW GARDEN BOARDING SCHOOL (SAJONG)      Not Available   \n",
       "2     SARASWATI SHISHU VIDHYALAYA, BUDANG      Not Available   \n",
       "3        SAWNEY GOVERNMENT PRIMARY SCHOOL      Not Available   \n",
       "4  UPPER PACHAK GOVERNMENT PRIMARY SCHOOL      Not Available   \n",
       "\n",
       "  AvailableBooksCount IsFireExtgAvailable ExtinguisherCount HOIRoomAvailable  \\\n",
       "0                   0           Available                 2        Available   \n",
       "1                   0       Not Available                 0    Not Available   \n",
       "2                   0       Not Available                 0    Not Available   \n",
       "3                   0           Available                 1        Available   \n",
       "4                   0           Available                 1    Not Available   \n",
       "\n",
       "  IsStaffRoomAvailable NoofStaffRoom IsLockerForStaffAvailable  \\\n",
       "0        Not Available             0             Not Available   \n",
       "1        Not Available             0             Not Available   \n",
       "2            Available             1             Not Available   \n",
       "3            Available             1             Not Available   \n",
       "4            Available             1             Not Available   \n",
       "\n",
       "  IsSportsStoreRoomAvailable  \n",
       "0              Not Available  \n",
       "1                  Available  \n",
       "2              Not Available  \n",
       "3              Not Available  \n",
       "4              Not Available  \n",
       "\n",
       "[5 rows x 43 columns]"
      ]
     },
     "execution_count": 13,
     "metadata": {},
     "output_type": "execute_result"
    }
   ],
   "source": [
    "# Now, select just the schools where the SchoolLevel is \"PS\" that do not have libraries.\n",
    "query = \"\"\"\n",
    "SELECT *\n",
    "FROM schools as s\n",
    "JOIN facilities as f\n",
    "WHERE s.EstablishmentCode = f.EstablishmentCode AND s.SchoolLevel = \"PS\" AND f.IsLibraryAvailable = \"Not Available\"\n",
    "\"\"\"\n",
    "# Read the sql query into pandas to view the results\n",
    "df = pd.read_sql_query(query, conn)\n",
    "df.head()"
   ]
  },
  {
   "cell_type": "markdown",
   "metadata": {
    "id": "Ah1dsB-DhqV1"
   },
   "source": [
    "# **Your Turn**"
   ]
  },
  {
   "cell_type": "markdown",
   "metadata": {
    "id": "PfDTbnH2FqTV"
   },
   "source": [
    "Build off the previous query, but order the results alphabetically by name."
   ]
  },
  {
   "cell_type": "markdown",
   "metadata": {},
   "source": [
    "## 1. Get the EstablishmentName, SchoolLevel, and Website columns from the school"
   ]
  },
  {
   "cell_type": "code",
   "execution_count": 14,
   "metadata": {
    "ExecuteTime": {
     "end_time": "2023-02-07T21:42:18.706119Z",
     "start_time": "2023-02-07T21:42:18.686614Z"
    }
   },
   "outputs": [
    {
     "name": "stdout",
     "output_type": "stream",
     "text": [
      "2023-02-07 13:42:18,688 INFO sqlalchemy.engine.Engine \n",
      "SELECT EstablishmentName, SchoolLevel, Website\n",
      "from schools\n",
      "\n",
      "2023-02-07 13:42:18,689 INFO sqlalchemy.engine.Engine [raw sql] ()\n"
     ]
    },
    {
     "data": {
      "text/html": [
       "<div>\n",
       "<style scoped>\n",
       "    .dataframe tbody tr th:only-of-type {\n",
       "        vertical-align: middle;\n",
       "    }\n",
       "\n",
       "    .dataframe tbody tr th {\n",
       "        vertical-align: top;\n",
       "    }\n",
       "\n",
       "    .dataframe thead th {\n",
       "        text-align: right;\n",
       "    }\n",
       "</style>\n",
       "<table border=\"1\" class=\"dataframe\">\n",
       "  <thead>\n",
       "    <tr style=\"text-align: right;\">\n",
       "      <th></th>\n",
       "      <th>EstablishmentName</th>\n",
       "      <th>SchoolLevel</th>\n",
       "      <th>Website</th>\n",
       "    </tr>\n",
       "  </thead>\n",
       "  <tbody>\n",
       "    <tr>\n",
       "      <th>0</th>\n",
       "      <td>BUDANG GOVERNMENT PRIMARY SCHOOL (E)</td>\n",
       "      <td>PS</td>\n",
       "      <td>None</td>\n",
       "    </tr>\n",
       "    <tr>\n",
       "      <th>1</th>\n",
       "      <td>CENTRAL PENDAM GOVERNMENT SENIOR SECONDARY SCHOOL</td>\n",
       "      <td>SSS</td>\n",
       "      <td>None</td>\n",
       "    </tr>\n",
       "    <tr>\n",
       "      <th>2</th>\n",
       "      <td>CENTRAL POINT ACADEMY, CENTRAL PENDAM</td>\n",
       "      <td>SS</td>\n",
       "      <td>www.facebook.com/khanalkeshav (Group-CPA)</td>\n",
       "    </tr>\n",
       "    <tr>\n",
       "      <th>3</th>\n",
       "      <td>CHEURIBOTEY GOVERNMENT JUNIOR HIGH SCHOOL (E)</td>\n",
       "      <td>JHS</td>\n",
       "      <td>None</td>\n",
       "    </tr>\n",
       "    <tr>\n",
       "      <th>4</th>\n",
       "      <td>DUGA GOVERNMENT SECONDARY SCHOOL</td>\n",
       "      <td>SS</td>\n",
       "      <td>None</td>\n",
       "    </tr>\n",
       "  </tbody>\n",
       "</table>\n",
       "</div>"
      ],
      "text/plain": [
       "                                   EstablishmentName SchoolLevel  \\\n",
       "0               BUDANG GOVERNMENT PRIMARY SCHOOL (E)          PS   \n",
       "1  CENTRAL PENDAM GOVERNMENT SENIOR SECONDARY SCHOOL         SSS   \n",
       "2              CENTRAL POINT ACADEMY, CENTRAL PENDAM          SS   \n",
       "3      CHEURIBOTEY GOVERNMENT JUNIOR HIGH SCHOOL (E)         JHS   \n",
       "4                   DUGA GOVERNMENT SECONDARY SCHOOL          SS   \n",
       "\n",
       "                                     Website  \n",
       "0                                       None  \n",
       "1                                       None  \n",
       "2  www.facebook.com/khanalkeshav (Group-CPA)  \n",
       "3                                       None  \n",
       "4                                       None  "
      ]
     },
     "execution_count": 14,
     "metadata": {},
     "output_type": "execute_result"
    }
   ],
   "source": [
    "query = \"\"\"\n",
    "SELECT EstablishmentName, SchoolLevel, Website\n",
    "from schools\n",
    "\"\"\"\n",
    "# Read the sql query into pandas to view the results\n",
    "df = pd.read_sql_query(query, conn)\n",
    "df.head()"
   ]
  },
  {
   "cell_type": "markdown",
   "metadata": {},
   "source": [
    "## 2. Display the EstablishmentName and DistrictHQDistance (in Km) for schools where the DistrictHQDistance (in Km) is more than 100 Km. Don't forget to use backticks! (`)"
   ]
  },
  {
   "cell_type": "code",
   "execution_count": 15,
   "metadata": {
    "ExecuteTime": {
     "end_time": "2023-02-07T21:42:18.719657Z",
     "start_time": "2023-02-07T21:42:18.706119Z"
    }
   },
   "outputs": [
    {
     "name": "stdout",
     "output_type": "stream",
     "text": [
      "2023-02-07 13:42:18,706 INFO sqlalchemy.engine.Engine \n",
      "SELECT EstablishmentName, `DistrictHQDistance (in Km)`\n",
      "from schools\n",
      "where `DistrictHQDistance (in Km)` > 100\n",
      "\n",
      "2023-02-07 13:42:18,706 INFO sqlalchemy.engine.Engine [raw sql] ()\n"
     ]
    },
    {
     "data": {
      "text/html": [
       "<div>\n",
       "<style scoped>\n",
       "    .dataframe tbody tr th:only-of-type {\n",
       "        vertical-align: middle;\n",
       "    }\n",
       "\n",
       "    .dataframe tbody tr th {\n",
       "        vertical-align: top;\n",
       "    }\n",
       "\n",
       "    .dataframe thead th {\n",
       "        text-align: right;\n",
       "    }\n",
       "</style>\n",
       "<table border=\"1\" class=\"dataframe\">\n",
       "  <thead>\n",
       "    <tr style=\"text-align: right;\">\n",
       "      <th></th>\n",
       "      <th>EstablishmentName</th>\n",
       "      <th>DistrictHQDistance (in Km)</th>\n",
       "    </tr>\n",
       "  </thead>\n",
       "  <tbody>\n",
       "    <tr>\n",
       "      <th>0</th>\n",
       "      <td>DODACHEN GOVERNMENT PRIMARY SCHOOL</td>\n",
       "      <td>150.0</td>\n",
       "    </tr>\n",
       "    <tr>\n",
       "      <th>1</th>\n",
       "      <td>DEOLING GOVERNMENT PRIMARY SCHOOL</td>\n",
       "      <td>107.0</td>\n",
       "    </tr>\n",
       "    <tr>\n",
       "      <th>2</th>\n",
       "      <td>PEMA TSEL ACADEMY(PHADAMCHEN)</td>\n",
       "      <td>110.0</td>\n",
       "    </tr>\n",
       "    <tr>\n",
       "      <th>3</th>\n",
       "      <td>ZULUCK GOVERNMENT PRIMARY SCHOOL</td>\n",
       "      <td>120.0</td>\n",
       "    </tr>\n",
       "    <tr>\n",
       "      <th>4</th>\n",
       "      <td>BHARENG GOVERNMENT PRIMARY SCHOOL</td>\n",
       "      <td>150.0</td>\n",
       "    </tr>\n",
       "  </tbody>\n",
       "</table>\n",
       "</div>"
      ],
      "text/plain": [
       "                    EstablishmentName  DistrictHQDistance (in Km)\n",
       "0  DODACHEN GOVERNMENT PRIMARY SCHOOL                       150.0\n",
       "1   DEOLING GOVERNMENT PRIMARY SCHOOL                       107.0\n",
       "2       PEMA TSEL ACADEMY(PHADAMCHEN)                       110.0\n",
       "3    ZULUCK GOVERNMENT PRIMARY SCHOOL                       120.0\n",
       "4   BHARENG GOVERNMENT PRIMARY SCHOOL                       150.0"
      ]
     },
     "execution_count": 15,
     "metadata": {},
     "output_type": "execute_result"
    }
   ],
   "source": [
    "query = \"\"\"\n",
    "SELECT EstablishmentName, `DistrictHQDistance (in Km)`\n",
    "from schools\n",
    "where `DistrictHQDistance (in Km)` > 100\n",
    "\"\"\"\n",
    "# Read the sql query into pandas to view the results\n",
    "df = pd.read_sql_query(query, conn)\n",
    "df.head()"
   ]
  },
  {
   "cell_type": "markdown",
   "metadata": {},
   "source": [
    "## 3. (**CHALLENGE!**) Display the EstablishmentName, SchoolLevel, and AvailableBooksCount       for schools where the name of the school contains the words \"JUNIOR HIGH.\"\n",
    "\n",
    "### **Note** You will need to join the tables to complete this!"
   ]
  },
  {
   "cell_type": "code",
   "execution_count": 16,
   "metadata": {
    "ExecuteTime": {
     "end_time": "2023-02-07T21:42:18.735627Z",
     "start_time": "2023-02-07T21:42:18.719657Z"
    }
   },
   "outputs": [
    {
     "name": "stdout",
     "output_type": "stream",
     "text": [
      "2023-02-07 13:42:18,719 INFO sqlalchemy.engine.Engine \n",
      "SELECT s.EstablishmentName, s.SchoolLevel, f.AvailableBooksCount\n",
      "FROM schools as s\n",
      "JOIN facilities as f\n",
      "WHERE s.EstablishmentCode = f.EstablishmentCode \n",
      "AND s.EstablishmentName LIKE '%JUNIOR HIGH%'\n",
      "\n",
      "2023-02-07 13:42:18,719 INFO sqlalchemy.engine.Engine [raw sql] ()\n"
     ]
    },
    {
     "data": {
      "text/html": [
       "<div>\n",
       "<style scoped>\n",
       "    .dataframe tbody tr th:only-of-type {\n",
       "        vertical-align: middle;\n",
       "    }\n",
       "\n",
       "    .dataframe tbody tr th {\n",
       "        vertical-align: top;\n",
       "    }\n",
       "\n",
       "    .dataframe thead th {\n",
       "        text-align: right;\n",
       "    }\n",
       "</style>\n",
       "<table border=\"1\" class=\"dataframe\">\n",
       "  <thead>\n",
       "    <tr style=\"text-align: right;\">\n",
       "      <th></th>\n",
       "      <th>EstablishmentName</th>\n",
       "      <th>SchoolLevel</th>\n",
       "      <th>AvailableBooksCount</th>\n",
       "    </tr>\n",
       "  </thead>\n",
       "  <tbody>\n",
       "    <tr>\n",
       "      <th>0</th>\n",
       "      <td>CHEURIBOTEY GOVERNMENT JUNIOR HIGH SCHOOL (E)</td>\n",
       "      <td>JHS</td>\n",
       "      <td>120</td>\n",
       "    </tr>\n",
       "    <tr>\n",
       "      <th>1</th>\n",
       "      <td>SAJONG GOVERNMENT JUNIOR HIGH SCHOOL</td>\n",
       "      <td>JHS</td>\n",
       "      <td>0</td>\n",
       "    </tr>\n",
       "    <tr>\n",
       "      <th>2</th>\n",
       "      <td>SINGLEYBONG GOVERNMENT JUNIOR HIGH SCHOOL</td>\n",
       "      <td>JHS</td>\n",
       "      <td>84</td>\n",
       "    </tr>\n",
       "    <tr>\n",
       "      <th>3</th>\n",
       "      <td>BORDANG GOVERNMENT JUNIOR HIGH SCHOOL</td>\n",
       "      <td>JHS</td>\n",
       "      <td>100</td>\n",
       "    </tr>\n",
       "    <tr>\n",
       "      <th>4</th>\n",
       "      <td>RANGPO BAZAR GOVERNMENT JUNIOR HIGH SCHOOL</td>\n",
       "      <td>JHS</td>\n",
       "      <td>0</td>\n",
       "    </tr>\n",
       "  </tbody>\n",
       "</table>\n",
       "</div>"
      ],
      "text/plain": [
       "                               EstablishmentName SchoolLevel  \\\n",
       "0  CHEURIBOTEY GOVERNMENT JUNIOR HIGH SCHOOL (E)         JHS   \n",
       "1           SAJONG GOVERNMENT JUNIOR HIGH SCHOOL         JHS   \n",
       "2      SINGLEYBONG GOVERNMENT JUNIOR HIGH SCHOOL         JHS   \n",
       "3          BORDANG GOVERNMENT JUNIOR HIGH SCHOOL         JHS   \n",
       "4     RANGPO BAZAR GOVERNMENT JUNIOR HIGH SCHOOL         JHS   \n",
       "\n",
       "   AvailableBooksCount  \n",
       "0                  120  \n",
       "1                    0  \n",
       "2                   84  \n",
       "3                  100  \n",
       "4                    0  "
      ]
     },
     "execution_count": 16,
     "metadata": {},
     "output_type": "execute_result"
    }
   ],
   "source": [
    "query = \"\"\"\n",
    "SELECT s.EstablishmentName, s.SchoolLevel, f.AvailableBooksCount\n",
    "FROM schools as s\n",
    "JOIN facilities as f\n",
    "WHERE s.EstablishmentCode = f.EstablishmentCode \n",
    "AND s.EstablishmentName LIKE '%JUNIOR HIGH%'\n",
    "\"\"\"\n",
    "# Read the sql query into pandas to view the results\n",
    "df = pd.read_sql_query(query, conn)\n",
    "df.head()"
   ]
  },
  {
   "cell_type": "code",
   "execution_count": null,
   "metadata": {},
   "outputs": [],
   "source": []
  }
 ],
 "metadata": {
  "colab": {
   "provenance": []
  },
  "kernelspec": {
   "display_name": "Python 3 (ipykernel)",
   "language": "python",
   "name": "python3"
  },
  "language_info": {
   "codemirror_mode": {
    "name": "ipython",
    "version": 3
   },
   "file_extension": ".py",
   "mimetype": "text/x-python",
   "name": "python",
   "nbconvert_exporter": "python",
   "pygments_lexer": "ipython3",
   "version": "3.9.15"
  },
  "toc": {
   "base_numbering": 1,
   "nav_menu": {},
   "number_sections": false,
   "sideBar": true,
   "skip_h1_title": false,
   "title_cell": "Table of Contents",
   "title_sidebar": "Contents",
   "toc_cell": false,
   "toc_position": {},
   "toc_section_display": true,
   "toc_window_display": false
  }
 },
 "nbformat": 4,
 "nbformat_minor": 1
}
